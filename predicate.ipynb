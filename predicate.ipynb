{
 "cells": [
  {
   "cell_type": "code",
   "execution_count": 18,
   "metadata": {},
   "outputs": [
    {
     "data": {
      "text/plain": [
       "False"
      ]
     },
     "execution_count": 18,
     "metadata": {},
     "output_type": "execute_result"
    }
   ],
   "source": [
    "import operator\n",
    "\n",
    "operator_dict = {\n",
    "    \"<\" :operator.lt,\n",
    "    \"<=\" : operator.le,\n",
    "    \"=\" : operator.eq,\n",
    "    \"!=\" : operator.ne,\n",
    "    \">=\" : operator.ge,\n",
    "    \">\" : operator.gt,\n",
    "}\n",
    "\n",
    "class Predicate:\n",
    "    #Predicates is a binary logic function that return true if\n",
    "    #for 2 value at the position attribute, val1 operator val2\n",
    "    #is true.\n",
    "    def __init__(self, attributePos, operator):\n",
    "        self.attribute = attributePos #int\n",
    "        self.operator = operator #string\n",
    "    \n",
    "    def is_true(self,row1,row2):\n",
    "        return (operator_dict[self.operator](row1[self.attribute],row2[self.attribute]))\n",
    "                "
   ]
  },
  {
   "cell_type": "code",
   "execution_count": null,
   "metadata": {
    "scrolled": true
   },
   "outputs": [],
   "source": []
  },
  {
   "cell_type": "code",
   "execution_count": null,
   "metadata": {},
   "outputs": [],
   "source": []
  },
  {
   "cell_type": "code",
   "execution_count": null,
   "metadata": {
    "collapsed": true
   },
   "outputs": [],
   "source": []
  }
 ],
 "metadata": {
  "kernelspec": {
   "display_name": "Python 3",
   "language": "python",
   "name": "python3"
  },
  "language_info": {
   "codemirror_mode": {
    "name": "ipython",
    "version": 3
   },
   "file_extension": ".py",
   "mimetype": "text/x-python",
   "name": "python",
   "nbconvert_exporter": "python",
   "pygments_lexer": "ipython3",
   "version": "3.6.3"
  }
 },
 "nbformat": 4,
 "nbformat_minor": 2
}
