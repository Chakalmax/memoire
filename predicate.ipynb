{
 "cells": [
  {
   "cell_type": "code",
   "execution_count": 14,
   "metadata": {},
   "outputs": [],
   "source": [
    "import operator\n",
    "\n",
    "operator_dict = {\n",
    "    \"<\" :operator.lt,\n",
    "    \"<=\" : operator.le,\n",
    "    \"=\" : operator.eq,\n",
    "    \"!=\" : operator.ne,\n",
    "    \">=\" : operator.ge,\n",
    "    \">\" : operator.gt,\n",
    "}\n",
    "\n",
    "class Predicate:\n",
    "    #Predicates contain an attribute (here a position so a number)\n",
    "    #and an operator. See operator_dict for all possible operator.\n",
    "    def __init__(self, attributePos, operator):\n",
    "        self.attribute = attributePos #int\n",
    "        self.operator = operator #string\n",
    "    #\n",
    "    def is_true(self,row1,row2):\n",
    "        return (operator_dict[self.operator](row1[self.attribute],row2[self.attribute]))\n",
    "    \n",
    "    def __str__(self):\n",
    "        return str(self.__dict__)\n",
    "\n",
    "    def __eq__(self, other): \n",
    "        return self.__dict__ == other.__dict__\n",
    "                \n",
    "class DC:\n",
    "    #A denial constraint is a conjunction of multiple predicates.\n",
    "    #They cannot be all true at the same time\n",
    "    \n",
    "    #predicates should be none or a list of predicates!\n",
    "    def __init__(self, predicates = []):\n",
    "        self.predicates = predicates\n",
    "        \n",
    "    #return true if at least one of the predicates is false    \n",
    "    def is_true(self,row1,row2):\n",
    "        for predicate in self.predicates:\n",
    "            if not(predicate.is_true(row1,row2)):\n",
    "                return True\n",
    "        return False\n",
    "    \n",
    "    def add(self,predicate):\n",
    "        self.predicates.append(predicate)\n",
    "        \n",
    "    def remove(self,predicate):\n",
    "        for pred in self.predicates:\n",
    "            if pred==predicate:\n",
    "                del pred\n",
    "    \n",
    "    def size(self):\n",
    "        return len(self.predicates)"
   ]
  },
  {
   "cell_type": "code",
   "execution_count": 3,
   "metadata": {
    "scrolled": true
   },
   "outputs": [],
   "source": [
    "#Read file data.txt\n",
    "file = open(\"Data.txt\",\"r\")\n",
    "data = file.readlines()\n",
    "columnName = data[0]\n",
    "del data[0]\n",
    "# now data is a list of list: each list in data is a row of the database\n",
    "for i in range (len(data)):\n",
    "    data[i] =  data[i].split()"
   ]
  },
  {
   "cell_type": "code",
   "execution_count": 17,
   "metadata": {},
   "outputs": [
    {
     "name": "stdout",
     "output_type": "stream",
     "text": [
      "True\n",
      "False\n",
      "False\n",
      "0\n",
      "False\n",
      "1\n",
      "True\n",
      "2\n"
     ]
    }
   ],
   "source": [
    "#Test some predicates\n",
    "pred1 = Predicate(4,\"<\")\n",
    "print(pred1.is_true(data[0],data[1]))\n",
    "pred2 = Predicate(5,\"<\")\n",
    "print(pred2.is_true(data[0],data[1]))\n",
    "\n",
    "#Now form a denial constraint\n",
    "den1 = DC()\n",
    "print(den1.is_true(data[0],data[1]))#an empty DC can only be satisfied by empty database (we won't consider this case on code)\n",
    "print(den1.size())\n",
    "\n",
    "den1.add(pred1)\n",
    "print(den1.is_true(data[0],data[1])) \n",
    "print(den1.size())\n",
    "\n",
    "den1.add(pred2)\n",
    "print(den1.is_true(data[0],data[1])) \n",
    "print(den1.size())"
   ]
  },
  {
   "cell_type": "code",
   "execution_count": null,
   "metadata": {
    "collapsed": true
   },
   "outputs": [],
   "source": []
  },
  {
   "cell_type": "code",
   "execution_count": null,
   "metadata": {
    "collapsed": true
   },
   "outputs": [],
   "source": []
  }
 ],
 "metadata": {
  "kernelspec": {
   "display_name": "Python 3",
   "language": "python",
   "name": "python3"
  },
  "language_info": {
   "codemirror_mode": {
    "name": "ipython",
    "version": 3
   },
   "file_extension": ".py",
   "mimetype": "text/x-python",
   "name": "python",
   "nbconvert_exporter": "python",
   "pygments_lexer": "ipython3",
   "version": "3.6.3"
  }
 },
 "nbformat": 4,
 "nbformat_minor": 2
}
