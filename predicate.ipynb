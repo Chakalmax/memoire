{
 "cells": [
  {
   "cell_type": "code",
   "execution_count": 14,
   "metadata": {},
   "outputs": [],
   "source": [
    "import operator\n",
    "\n",
    "operator_dict = {\n",
    "    \"<\" :operator.lt,\n",
    "    \"<=\" : operator.le,\n",
    "    \"=\" : operator.eq,\n",
    "    \"!=\" : operator.ne,\n",
    "    \">=\" : operator.ge,\n",
    "    \">\" : operator.gt,\n",
    "}\n",
    "\n",
    "class Predicate:\n",
    "    #Predicates contain an attribute (here a position so a number)\n",
    "    #and an operator. See operator_dict for all possible operator.\n",
    "    def __init__(self, attributePos, operator):\n",
    "        self.attribute = attributePos #int\n",
    "        self.operator = operator #string\n",
    "    #\n",
    "    def is_true(self,row1,row2):\n",
    "        print(\"row1 : \" + row1[self.attribute] +\" ,row2: \" + row2[self.attribute])\n",
    "        return (operator_dict[self.operator](row1[self.attribute],row2[self.attribute]))\n",
    "                \n",
    "class DC:\n",
    "    #A denial constraint is a conjunction of multiple predicates.\n",
    "    #They cannot be all true at the same time\n",
    "    \n",
    "    #predicates should be none or a list of predicates!\n",
    "    def __init__(self, predicates = None):\n",
    "        self.predicates = predicates\n",
    "        \n",
    "    def is_true(self):\n",
    "        for predicate in predicates:\n",
    "            print(\"ha\")"
   ]
  },
  {
   "cell_type": "code",
   "execution_count": 17,
   "metadata": {
    "scrolled": true
   },
   "outputs": [
    {
     "name": "stdout",
     "output_type": "stream",
     "text": [
      "[['Ayres', '8-8-1984', '322-573', '2007', '21k', '0'], ['Ayres', '5-1-1960', '***-389', '2007', '22k', '0'], ['Ayres', '5-1-1960', '564-389', '2007', '22k', '0'], ['Stanley', '13-8-1987', '868-701', '2007', '23k', '3k'], ['Stanley', '31-7-1983', '***-198', '2007', '24k', '0'], ['Stanley', '31-7-1983', '930-198', '2008', '24k', '0'], ['Dustin', '2-12-1985', '179-924', '2008', '25k', '0'], ['Dustin', '5-9-1980', '***-870', '2008', '100k', '21k'], ['Dustin', '5-9-1980', '824-870', '2009', '100k', '21k'], ['Dustin', '9-4-1984', '387-215', '2009', '150k', '40k']]\n",
      "row1 : 21k ,row2: 22k\n",
      "True\n",
      "row1 : 0 ,row2: 0\n",
      "False\n"
     ]
    }
   ],
   "source": [
    "#Read file data.txt\n",
    "file = open(\"Data.txt\",\"r\")\n",
    "data = file.readlines()\n",
    "columnName = data[0]\n",
    "del data[0]\n",
    "# now data is a list of list: each list in data is a row of the database\n",
    "for i in range (len(data)):\n",
    "    data[i] =  data[i].split()\n",
    "\n",
    "pred1 = Predicate(4,\"<\")\n",
    "print(pred1.is_true(data[0],data[1]))\n",
    "pred2 = Predicate(5,\"<\")\n",
    "print(pred2.is_true(data[0],data[1]))"
   ]
  },
  {
   "cell_type": "code",
   "execution_count": null,
   "metadata": {
    "collapsed": true
   },
   "outputs": [],
   "source": []
  },
  {
   "cell_type": "code",
   "execution_count": null,
   "metadata": {
    "collapsed": true
   },
   "outputs": [],
   "source": []
  },
  {
   "cell_type": "code",
   "execution_count": null,
   "metadata": {
    "collapsed": true
   },
   "outputs": [],
   "source": []
  }
 ],
 "metadata": {
  "kernelspec": {
   "display_name": "Python 3",
   "language": "python",
   "name": "python3"
  },
  "language_info": {
   "codemirror_mode": {
    "name": "ipython",
    "version": 3
   },
   "file_extension": ".py",
   "mimetype": "text/x-python",
   "name": "python",
   "nbconvert_exporter": "python",
   "pygments_lexer": "ipython3",
   "version": "3.6.3"
  }
 },
 "nbformat": 4,
 "nbformat_minor": 2
}
